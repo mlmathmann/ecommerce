{
 "cells": [
  {
   "cell_type": "code",
   "execution_count": 1,
   "metadata": {},
   "outputs": [],
   "source": [
    "from sender import Sender\n",
    "sender = Sender(params = '/Users/georgeb/Midjourney_api/sender_params.json')"
   ]
  },
  {
   "cell_type": "code",
   "execution_count": 2,
   "metadata": {},
   "outputs": [
    {
     "name": "stdout",
     "output_type": "stream",
     "text": [
      "prompt [your prompt here] successfully sent!\n"
     ]
    }
   ],
   "source": [
    "prompt = 'your prompt here'\n",
    "sender.send(prompt)"
   ]
  },
  {
   "cell_type": "code",
   "execution_count": null,
   "metadata": {},
   "outputs": [],
   "source": []
  }
 ],
 "metadata": {
  "kernelspec": {
   "display_name": "gpu_env",
   "language": "python",
   "name": "python3"
  },
  "language_info": {
   "codemirror_mode": {
    "name": "ipython",
    "version": 3
   },
   "file_extension": ".py",
   "mimetype": "text/x-python",
   "name": "python",
   "nbconvert_exporter": "python",
   "pygments_lexer": "ipython3",
   "version": "3.10.8"
  },
  "orig_nbformat": 4,
  "vscode": {
   "interpreter": {
    "hash": "ff125abbc48a33c1abc72b8ef58b0e69bd6cc695c3c2232d0d59e8aaf86641b6"
   }
  }
 },
 "nbformat": 4,
 "nbformat_minor": 2
}
